{
 "cells": [
  {
   "cell_type": "markdown",
   "id": "2ffb387c-2083-428e-9ef9-548ff9409086",
   "metadata": {},
   "source": [
    "# پروژه تحلیل رفتاری و پیش‌بینی ارزش طول عمر مشتری برای یک فروشگاه آنلاین\n",
    "ارزش طول عمر مشتری=Customer Lifetime Value"
   ]
  },
  {
   "cell_type": "markdown",
   "id": "9b6f9fc7-e20d-4931-9ae9-21e41d8141c2",
   "metadata": {},
   "source": [
    "## آماده‌سازی و تمیزکاری اولیه"
   ]
  },
  {
   "cell_type": "markdown",
   "id": "4cde4785-85c9-42a9-87aa-2117ff167f03",
   "metadata": {},
   "source": [
    "### 1. ایمپورت کتابخانه‌ها:"
   ]
  },
  {
   "cell_type": "code",
   "execution_count": 1,
   "id": "be66729b-6e4a-4b94-85b5-b546630f3b16",
   "metadata": {},
   "outputs": [],
   "source": [
    "import pandas as pd\n",
    "import numpy as np"
   ]
  },
  {
   "cell_type": "markdown",
   "id": "9c16f726-7383-4b21-a34c-54dadb3290aa",
   "metadata": {},
   "source": [
    "### 2. خواندن فایل:"
   ]
  },
  {
   "cell_type": "code",
   "execution_count": 2,
   "id": "9ab8edcc-7f09-442a-b4ed-58ea991c8400",
   "metadata": {},
   "outputs": [],
   "source": [
    "df = pd.read_excel(\"Online Retail.xlsx\")"
   ]
  },
  {
   "cell_type": "markdown",
   "id": "00de079f-429f-4b0b-8207-ca4eb4b75b68",
   "metadata": {},
   "source": [
    "### 3. بررسی اولیه:"
   ]
  },
  {
   "cell_type": "code",
   "execution_count": 3,
   "id": "0bbb548e-2dc6-4f19-917a-ef4969cd4899",
   "metadata": {},
   "outputs": [
    {
     "data": {
      "text/html": [
       "<div>\n",
       "<style scoped>\n",
       "    .dataframe tbody tr th:only-of-type {\n",
       "        vertical-align: middle;\n",
       "    }\n",
       "\n",
       "    .dataframe tbody tr th {\n",
       "        vertical-align: top;\n",
       "    }\n",
       "\n",
       "    .dataframe thead th {\n",
       "        text-align: right;\n",
       "    }\n",
       "</style>\n",
       "<table border=\"1\" class=\"dataframe\">\n",
       "  <thead>\n",
       "    <tr style=\"text-align: right;\">\n",
       "      <th></th>\n",
       "      <th>InvoiceNo</th>\n",
       "      <th>StockCode</th>\n",
       "      <th>Description</th>\n",
       "      <th>Quantity</th>\n",
       "      <th>InvoiceDate</th>\n",
       "      <th>UnitPrice</th>\n",
       "      <th>CustomerID</th>\n",
       "      <th>Country</th>\n",
       "    </tr>\n",
       "  </thead>\n",
       "  <tbody>\n",
       "    <tr>\n",
       "      <th>0</th>\n",
       "      <td>536365</td>\n",
       "      <td>85123A</td>\n",
       "      <td>WHITE HANGING HEART T-LIGHT HOLDER</td>\n",
       "      <td>6</td>\n",
       "      <td>2010-12-01 08:26:00</td>\n",
       "      <td>2.55</td>\n",
       "      <td>17850.0</td>\n",
       "      <td>United Kingdom</td>\n",
       "    </tr>\n",
       "    <tr>\n",
       "      <th>1</th>\n",
       "      <td>536365</td>\n",
       "      <td>71053</td>\n",
       "      <td>WHITE METAL LANTERN</td>\n",
       "      <td>6</td>\n",
       "      <td>2010-12-01 08:26:00</td>\n",
       "      <td>3.39</td>\n",
       "      <td>17850.0</td>\n",
       "      <td>United Kingdom</td>\n",
       "    </tr>\n",
       "    <tr>\n",
       "      <th>2</th>\n",
       "      <td>536365</td>\n",
       "      <td>84406B</td>\n",
       "      <td>CREAM CUPID HEARTS COAT HANGER</td>\n",
       "      <td>8</td>\n",
       "      <td>2010-12-01 08:26:00</td>\n",
       "      <td>2.75</td>\n",
       "      <td>17850.0</td>\n",
       "      <td>United Kingdom</td>\n",
       "    </tr>\n",
       "    <tr>\n",
       "      <th>3</th>\n",
       "      <td>536365</td>\n",
       "      <td>84029G</td>\n",
       "      <td>KNITTED UNION FLAG HOT WATER BOTTLE</td>\n",
       "      <td>6</td>\n",
       "      <td>2010-12-01 08:26:00</td>\n",
       "      <td>3.39</td>\n",
       "      <td>17850.0</td>\n",
       "      <td>United Kingdom</td>\n",
       "    </tr>\n",
       "    <tr>\n",
       "      <th>4</th>\n",
       "      <td>536365</td>\n",
       "      <td>84029E</td>\n",
       "      <td>RED WOOLLY HOTTIE WHITE HEART.</td>\n",
       "      <td>6</td>\n",
       "      <td>2010-12-01 08:26:00</td>\n",
       "      <td>3.39</td>\n",
       "      <td>17850.0</td>\n",
       "      <td>United Kingdom</td>\n",
       "    </tr>\n",
       "  </tbody>\n",
       "</table>\n",
       "</div>"
      ],
      "text/plain": [
       "  InvoiceNo StockCode                          Description  Quantity  \\\n",
       "0    536365    85123A   WHITE HANGING HEART T-LIGHT HOLDER         6   \n",
       "1    536365     71053                  WHITE METAL LANTERN         6   \n",
       "2    536365    84406B       CREAM CUPID HEARTS COAT HANGER         8   \n",
       "3    536365    84029G  KNITTED UNION FLAG HOT WATER BOTTLE         6   \n",
       "4    536365    84029E       RED WOOLLY HOTTIE WHITE HEART.         6   \n",
       "\n",
       "          InvoiceDate  UnitPrice  CustomerID         Country  \n",
       "0 2010-12-01 08:26:00       2.55     17850.0  United Kingdom  \n",
       "1 2010-12-01 08:26:00       3.39     17850.0  United Kingdom  \n",
       "2 2010-12-01 08:26:00       2.75     17850.0  United Kingdom  \n",
       "3 2010-12-01 08:26:00       3.39     17850.0  United Kingdom  \n",
       "4 2010-12-01 08:26:00       3.39     17850.0  United Kingdom  "
      ]
     },
     "execution_count": 3,
     "metadata": {},
     "output_type": "execute_result"
    }
   ],
   "source": [
    "df.head()"
   ]
  },
  {
   "cell_type": "code",
   "execution_count": 4,
   "id": "01a6cc4e-e0b9-4074-a3d2-1e4d99e3c331",
   "metadata": {},
   "outputs": [
    {
     "name": "stdout",
     "output_type": "stream",
     "text": [
      "<class 'pandas.core.frame.DataFrame'>\n",
      "RangeIndex: 541909 entries, 0 to 541908\n",
      "Data columns (total 8 columns):\n",
      " #   Column       Non-Null Count   Dtype         \n",
      "---  ------       --------------   -----         \n",
      " 0   InvoiceNo    541909 non-null  object        \n",
      " 1   StockCode    541909 non-null  object        \n",
      " 2   Description  540455 non-null  object        \n",
      " 3   Quantity     541909 non-null  int64         \n",
      " 4   InvoiceDate  541909 non-null  datetime64[ns]\n",
      " 5   UnitPrice    541909 non-null  float64       \n",
      " 6   CustomerID   406829 non-null  float64       \n",
      " 7   Country      541909 non-null  object        \n",
      "dtypes: datetime64[ns](1), float64(2), int64(1), object(4)\n",
      "memory usage: 33.1+ MB\n"
     ]
    },
    {
     "data": {
      "text/html": [
       "<div>\n",
       "<style scoped>\n",
       "    .dataframe tbody tr th:only-of-type {\n",
       "        vertical-align: middle;\n",
       "    }\n",
       "\n",
       "    .dataframe tbody tr th {\n",
       "        vertical-align: top;\n",
       "    }\n",
       "\n",
       "    .dataframe thead th {\n",
       "        text-align: right;\n",
       "    }\n",
       "</style>\n",
       "<table border=\"1\" class=\"dataframe\">\n",
       "  <thead>\n",
       "    <tr style=\"text-align: right;\">\n",
       "      <th></th>\n",
       "      <th>InvoiceNo</th>\n",
       "      <th>StockCode</th>\n",
       "      <th>Description</th>\n",
       "      <th>Quantity</th>\n",
       "      <th>InvoiceDate</th>\n",
       "      <th>UnitPrice</th>\n",
       "      <th>CustomerID</th>\n",
       "      <th>Country</th>\n",
       "    </tr>\n",
       "  </thead>\n",
       "  <tbody>\n",
       "    <tr>\n",
       "      <th>count</th>\n",
       "      <td>541909.0</td>\n",
       "      <td>541909</td>\n",
       "      <td>540455</td>\n",
       "      <td>541909.000000</td>\n",
       "      <td>541909</td>\n",
       "      <td>541909.000000</td>\n",
       "      <td>406829.000000</td>\n",
       "      <td>541909</td>\n",
       "    </tr>\n",
       "    <tr>\n",
       "      <th>unique</th>\n",
       "      <td>25900.0</td>\n",
       "      <td>4070</td>\n",
       "      <td>4223</td>\n",
       "      <td>NaN</td>\n",
       "      <td>NaN</td>\n",
       "      <td>NaN</td>\n",
       "      <td>NaN</td>\n",
       "      <td>38</td>\n",
       "    </tr>\n",
       "    <tr>\n",
       "      <th>top</th>\n",
       "      <td>573585.0</td>\n",
       "      <td>85123A</td>\n",
       "      <td>WHITE HANGING HEART T-LIGHT HOLDER</td>\n",
       "      <td>NaN</td>\n",
       "      <td>NaN</td>\n",
       "      <td>NaN</td>\n",
       "      <td>NaN</td>\n",
       "      <td>United Kingdom</td>\n",
       "    </tr>\n",
       "    <tr>\n",
       "      <th>freq</th>\n",
       "      <td>1114.0</td>\n",
       "      <td>2313</td>\n",
       "      <td>2369</td>\n",
       "      <td>NaN</td>\n",
       "      <td>NaN</td>\n",
       "      <td>NaN</td>\n",
       "      <td>NaN</td>\n",
       "      <td>495478</td>\n",
       "    </tr>\n",
       "    <tr>\n",
       "      <th>mean</th>\n",
       "      <td>NaN</td>\n",
       "      <td>NaN</td>\n",
       "      <td>NaN</td>\n",
       "      <td>9.552250</td>\n",
       "      <td>2011-07-04 13:34:57.156386048</td>\n",
       "      <td>4.611114</td>\n",
       "      <td>15287.690570</td>\n",
       "      <td>NaN</td>\n",
       "    </tr>\n",
       "    <tr>\n",
       "      <th>min</th>\n",
       "      <td>NaN</td>\n",
       "      <td>NaN</td>\n",
       "      <td>NaN</td>\n",
       "      <td>-80995.000000</td>\n",
       "      <td>2010-12-01 08:26:00</td>\n",
       "      <td>-11062.060000</td>\n",
       "      <td>12346.000000</td>\n",
       "      <td>NaN</td>\n",
       "    </tr>\n",
       "    <tr>\n",
       "      <th>25%</th>\n",
       "      <td>NaN</td>\n",
       "      <td>NaN</td>\n",
       "      <td>NaN</td>\n",
       "      <td>1.000000</td>\n",
       "      <td>2011-03-28 11:34:00</td>\n",
       "      <td>1.250000</td>\n",
       "      <td>13953.000000</td>\n",
       "      <td>NaN</td>\n",
       "    </tr>\n",
       "    <tr>\n",
       "      <th>50%</th>\n",
       "      <td>NaN</td>\n",
       "      <td>NaN</td>\n",
       "      <td>NaN</td>\n",
       "      <td>3.000000</td>\n",
       "      <td>2011-07-19 17:17:00</td>\n",
       "      <td>2.080000</td>\n",
       "      <td>15152.000000</td>\n",
       "      <td>NaN</td>\n",
       "    </tr>\n",
       "    <tr>\n",
       "      <th>75%</th>\n",
       "      <td>NaN</td>\n",
       "      <td>NaN</td>\n",
       "      <td>NaN</td>\n",
       "      <td>10.000000</td>\n",
       "      <td>2011-10-19 11:27:00</td>\n",
       "      <td>4.130000</td>\n",
       "      <td>16791.000000</td>\n",
       "      <td>NaN</td>\n",
       "    </tr>\n",
       "    <tr>\n",
       "      <th>max</th>\n",
       "      <td>NaN</td>\n",
       "      <td>NaN</td>\n",
       "      <td>NaN</td>\n",
       "      <td>80995.000000</td>\n",
       "      <td>2011-12-09 12:50:00</td>\n",
       "      <td>38970.000000</td>\n",
       "      <td>18287.000000</td>\n",
       "      <td>NaN</td>\n",
       "    </tr>\n",
       "    <tr>\n",
       "      <th>std</th>\n",
       "      <td>NaN</td>\n",
       "      <td>NaN</td>\n",
       "      <td>NaN</td>\n",
       "      <td>218.081158</td>\n",
       "      <td>NaN</td>\n",
       "      <td>96.759853</td>\n",
       "      <td>1713.600303</td>\n",
       "      <td>NaN</td>\n",
       "    </tr>\n",
       "  </tbody>\n",
       "</table>\n",
       "</div>"
      ],
      "text/plain": [
       "        InvoiceNo StockCode                         Description  \\\n",
       "count    541909.0    541909                              540455   \n",
       "unique    25900.0      4070                                4223   \n",
       "top      573585.0    85123A  WHITE HANGING HEART T-LIGHT HOLDER   \n",
       "freq       1114.0      2313                                2369   \n",
       "mean          NaN       NaN                                 NaN   \n",
       "min           NaN       NaN                                 NaN   \n",
       "25%           NaN       NaN                                 NaN   \n",
       "50%           NaN       NaN                                 NaN   \n",
       "75%           NaN       NaN                                 NaN   \n",
       "max           NaN       NaN                                 NaN   \n",
       "std           NaN       NaN                                 NaN   \n",
       "\n",
       "             Quantity                    InvoiceDate      UnitPrice  \\\n",
       "count   541909.000000                         541909  541909.000000   \n",
       "unique            NaN                            NaN            NaN   \n",
       "top               NaN                            NaN            NaN   \n",
       "freq              NaN                            NaN            NaN   \n",
       "mean         9.552250  2011-07-04 13:34:57.156386048       4.611114   \n",
       "min     -80995.000000            2010-12-01 08:26:00  -11062.060000   \n",
       "25%          1.000000            2011-03-28 11:34:00       1.250000   \n",
       "50%          3.000000            2011-07-19 17:17:00       2.080000   \n",
       "75%         10.000000            2011-10-19 11:27:00       4.130000   \n",
       "max      80995.000000            2011-12-09 12:50:00   38970.000000   \n",
       "std        218.081158                            NaN      96.759853   \n",
       "\n",
       "           CustomerID         Country  \n",
       "count   406829.000000          541909  \n",
       "unique            NaN              38  \n",
       "top               NaN  United Kingdom  \n",
       "freq              NaN          495478  \n",
       "mean     15287.690570             NaN  \n",
       "min      12346.000000             NaN  \n",
       "25%      13953.000000             NaN  \n",
       "50%      15152.000000             NaN  \n",
       "75%      16791.000000             NaN  \n",
       "max      18287.000000             NaN  \n",
       "std       1713.600303             NaN  "
      ]
     },
     "execution_count": 4,
     "metadata": {},
     "output_type": "execute_result"
    }
   ],
   "source": [
    "df.info()\n",
    "df.describe(include='all')"
   ]
  },
  {
   "cell_type": "markdown",
   "id": "01bd144c-ea51-4cb7-b126-c4244f67718f",
   "metadata": {},
   "source": [
    "###  4. تمیزکاری اولیه:"
   ]
  },
  {
   "cell_type": "markdown",
   "id": "2bf6b9fd-fee7-4294-9bf1-28c665551980",
   "metadata": {},
   "source": [
    "#### حذف ردیف‌های بدون CustomerID"
   ]
  },
  {
   "cell_type": "code",
   "execution_count": 5,
   "id": "f007cde9-a7b3-4519-8b45-0663a804a3bd",
   "metadata": {},
   "outputs": [],
   "source": [
    "df = df[df['CustomerID'].notnull()]"
   ]
  },
  {
   "cell_type": "markdown",
   "id": "52c5586c-e5b3-4836-a070-421a29e0b781",
   "metadata": {},
   "source": [
    "#### حذف مقادیر منفی در Quantity یا UnitPrice (برگشتی‌ها):"
   ]
  },
  {
   "cell_type": "code",
   "execution_count": 6,
   "id": "aa57fdbb-a755-45d4-afc7-61b7f57f2053",
   "metadata": {},
   "outputs": [],
   "source": [
    "df = df[(df['Quantity'] > 0) & (df['UnitPrice'] > 0)]"
   ]
  },
  {
   "cell_type": "markdown",
   "id": "a890b92e-ca4d-4f1c-b64b-2a14756607e9",
   "metadata": {},
   "source": [
    "#### تبدیل ستون تاریخ"
   ]
  },
  {
   "cell_type": "code",
   "execution_count": 7,
   "id": "57c06799-f2a3-4c75-b1dd-d29c6ed984ee",
   "metadata": {},
   "outputs": [],
   "source": [
    "df['InvoiceDate'] = pd.to_datetime(df['InvoiceDate'])"
   ]
  },
  {
   "cell_type": "markdown",
   "id": "ec56fcc4-09b7-4d90-babd-93d2f02a2ba6",
   "metadata": {},
   "source": [
    "#### ساخت ستون TotalPrice"
   ]
  },
  {
   "cell_type": "code",
   "execution_count": 8,
   "id": "54230979-1167-4953-acfd-854053e9a352",
   "metadata": {},
   "outputs": [],
   "source": [
    "df['TotalPrice'] = df['Quantity'] * df['UnitPrice']"
   ]
  },
  {
   "cell_type": "markdown",
   "id": "8fb134f2-64e8-4cb6-b29b-b7922711c209",
   "metadata": {},
   "source": [
    "## تحلیل اکتشافی اولیه (EDA)"
   ]
  },
  {
   "cell_type": "markdown",
   "id": "4bb8d7a0-bf40-4638-a3ad-a696749811d8",
   "metadata": {},
   "source": [
    "هدفمون اینه که:\n",
    "\n",
    "- ببینیم با چه نوع مشتری‌هایی سروکار داریم\n",
    "\n",
    "- رفتار خرید رو بشناسیم\n",
    "\n",
    "- الگوهای پنهان رو کشف کنیم"
   ]
  },
  {
   "cell_type": "markdown",
   "id": "9f43e4c4-ab4a-448f-a4ed-066940d04241",
   "metadata": {},
   "source": [
    "### 1. تعداد مشتری‌ها:"
   ]
  },
  {
   "cell_type": "code",
   "execution_count": 24,
   "id": "b37fb624-0280-404a-a7e3-0d86f13dde7d",
   "metadata": {},
   "outputs": [
    {
     "data": {
      "text/plain": [
       "4338"
      ]
     },
     "execution_count": 24,
     "metadata": {},
     "output_type": "execute_result"
    }
   ],
   "source": [
    "df['CustomerID'].nunique()"
   ]
  },
  {
   "cell_type": "markdown",
   "id": "d1362314-57f1-47a6-89c7-bfb2e038274a",
   "metadata": {},
   "source": [
    "### 2. پراکندگی کشورها (Top 5 کشور):"
   ]
  },
  {
   "cell_type": "code",
   "execution_count": 10,
   "id": "f471e0db-d767-4e7e-b883-332a7d45ee30",
   "metadata": {},
   "outputs": [
    {
     "data": {
      "text/plain": [
       "Country\n",
       "United Kingdom    354321\n",
       "Germany             9040\n",
       "France              8341\n",
       "EIRE                7236\n",
       "Spain               2484\n",
       "Name: count, dtype: int64"
      ]
     },
     "execution_count": 10,
     "metadata": {},
     "output_type": "execute_result"
    }
   ],
   "source": [
    "df['Country'].value_counts().head(5)"
   ]
  },
  {
   "cell_type": "markdown",
   "id": "84b30c28-b2c3-4394-b16e-f6cc43f6463a",
   "metadata": {},
   "source": [
    "### 3. پرفروش‌ترین کالاها:"
   ]
  },
  {
   "cell_type": "code",
   "execution_count": 11,
   "id": "807f5c09-f0fe-40c9-a3b6-5c40beb5ad18",
   "metadata": {},
   "outputs": [
    {
     "data": {
      "text/plain": [
       "Description\n",
       "PAPER CRAFT , LITTLE BIRDIE           80995\n",
       "MEDIUM CERAMIC TOP STORAGE JAR        77916\n",
       "WORLD WAR 2 GLIDERS ASSTD DESIGNS     54415\n",
       "JUMBO BAG RED RETROSPOT               46181\n",
       "WHITE HANGING HEART T-LIGHT HOLDER    36725\n",
       "ASSORTED COLOUR BIRD ORNAMENT         35362\n",
       "PACK OF 72 RETROSPOT CAKE CASES       33693\n",
       "POPCORN HOLDER                        30931\n",
       "RABBIT NIGHT LIGHT                    27202\n",
       "MINI PAINT SET VINTAGE                26076\n",
       "Name: Quantity, dtype: int64"
      ]
     },
     "execution_count": 11,
     "metadata": {},
     "output_type": "execute_result"
    }
   ],
   "source": [
    "df.groupby('Description')['Quantity'].sum().sort_values(ascending=False).head(10)"
   ]
  },
  {
   "cell_type": "markdown",
   "id": "57869089-8d28-4d18-beed-f69a17c8f3a1",
   "metadata": {},
   "source": [
    "### 4. میانگین و مجموع فروش"
   ]
  },
  {
   "cell_type": "code",
   "execution_count": 12,
   "id": "9f6baee1-298f-472b-bfbc-64ecdb34fce9",
   "metadata": {},
   "outputs": [
    {
     "data": {
      "text/plain": [
       "(8911407.904, 22.396999889415003)"
      ]
     },
     "execution_count": 12,
     "metadata": {},
     "output_type": "execute_result"
    }
   ],
   "source": [
    "df['TotalPrice'].sum(), df['TotalPrice'].mean()"
   ]
  },
  {
   "cell_type": "markdown",
   "id": "46452aab-610b-4c67-a7c2-cd824862cd5f",
   "metadata": {},
   "source": [
    "###  5. تعداد خرید در ماه"
   ]
  },
  {
   "cell_type": "code",
   "execution_count": 13,
   "id": "c39cfe10-d5eb-4041-b4d7-377c3cb67cca",
   "metadata": {},
   "outputs": [
    {
     "data": {
      "text/plain": [
       "Month\n",
       "1     21229\n",
       "2     19927\n",
       "3     27175\n",
       "4     22642\n",
       "5     28320\n",
       "6     27185\n",
       "7     26825\n",
       "8     27007\n",
       "9     40028\n",
       "10    49554\n",
       "11    64531\n",
       "12    43461\n",
       "Name: count, dtype: int64"
      ]
     },
     "execution_count": 13,
     "metadata": {},
     "output_type": "execute_result"
    }
   ],
   "source": [
    "df['Month'] = df['InvoiceDate'].dt.month\n",
    "df['Month'].value_counts().sort_index()"
   ]
  },
  {
   "cell_type": "markdown",
   "id": "afc06c08-9382-4293-8766-d118fe7b3d05",
   "metadata": {},
   "source": [
    "### 6. نمودار توزیع فروش بر اساس تعداد فاکتور در ماه"
   ]
  },
  {
   "cell_type": "code",
   "execution_count": 22,
   "id": "bbad91da-ff05-4e32-badc-d546db3bc536",
   "metadata": {},
   "outputs": [
    {
     "data": {
      "image/png": "[encoded data removed]",
      "text/plain": [
       "<Figure size 1000x500 with 1 Axes>"
      ]
     },
     "metadata": {},
     "output_type": "display_data"
    }
   ],
   "source": [
    "import matplotlib.pyplot as plt\n",
    "\n",
    "# تعداد فاکتورها در هر ماه\n",
    "monthly_sales = df['InvoiceDate'].dt.to_period('M').value_counts().sort_index()\n",
    "\n",
    "# رسم نمودار\n",
    "plt.figure(figsize=(10,5))\n",
    "monthly_sales.plot(kind='bar', color='skyblue')\n",
    "plt.title('Number of invoices registered per month')\n",
    "plt.xlabel('Month')\n",
    "plt.ylabel('Number of factors')\n",
    "plt.xticks(rotation=45)\n",
    "plt.tight_layout()\n",
    "plt.show()"
   ]
  },
  {
   "cell_type": "markdown",
   "id": "6241aca5-12f2-452d-8b94-cba73e92b14d",
   "metadata": {},
   "source": [
    "## RFM Analysis"
   ]
  },
  {
   "cell_type": "markdown",
   "id": "3452300c-f545-40ae-b9c0-4731dc34f4b6",
   "metadata": {},
   "source": [
    "هدف:\n",
    "\n",
    "برای هر مشتری ۳ عدد محاسبه کنیم:\n",
    "\n",
    "- Recency: چند روز از آخرین خریدش گذشته؟\n",
    "\n",
    "- Frequency: چند بار خرید کرده؟\n",
    "\n",
    "- Monetary: چقدر هزینه کرده؟"
   ]
  },
  {
   "cell_type": "markdown",
   "id": "48680ae8-a7d9-4ada-ad95-0dee22061012",
   "metadata": {},
   "source": [
    "### 1: تعیین تاریخ تحلیل "
   ]
  },
  {
   "cell_type": "code",
   "execution_count": 49,
   "id": "b882c1ae-77f9-4df0-8797-a4d3d4334d5a",
   "metadata": {},
   "outputs": [],
   "source": [
    "import datetime as dt\n",
    "\n",
    "# تاریخ مرجع برای محاسبه recency\n",
    "reference_date = df['InvoiceDate'].max() + dt.timedelta(days=1)\n",
    "\n",
    "#reference_date = dt.datetime.today()"
   ]
  },
  {
   "cell_type": "markdown",
   "id": "3f432490-9188-4fc6-9cd6-0f579f80b8a4",
   "metadata": {},
   "source": [
    "### 2: ساخت جدول RFM"
   ]
  },
  {
   "cell_type": "code",
   "execution_count": 50,
   "id": "ebffab63-67e1-4fe4-9c01-ab62ba995630",
   "metadata": {},
   "outputs": [
    {
     "data": {
      "text/html": [
       "<div>\n",
       "<style scoped>\n",
       "    .dataframe tbody tr th:only-of-type {\n",
       "        vertical-align: middle;\n",
       "    }\n",
       "\n",
       "    .dataframe tbody tr th {\n",
       "        vertical-align: top;\n",
       "    }\n",
       "\n",
       "    .dataframe thead th {\n",
       "        text-align: right;\n",
       "    }\n",
       "</style>\n",
       "<table border=\"1\" class=\"dataframe\">\n",
       "  <thead>\n",
       "    <tr style=\"text-align: right;\">\n",
       "      <th></th>\n",
       "      <th>CustomerID</th>\n",
       "      <th>Recency</th>\n",
       "      <th>Frequency</th>\n",
       "      <th>Monetary</th>\n",
       "    </tr>\n",
       "  </thead>\n",
       "  <tbody>\n",
       "    <tr>\n",
       "      <th>0</th>\n",
       "      <td>12346.0</td>\n",
       "      <td>326</td>\n",
       "      <td>1</td>\n",
       "      <td>77183.60</td>\n",
       "    </tr>\n",
       "    <tr>\n",
       "      <th>1</th>\n",
       "      <td>12347.0</td>\n",
       "      <td>2</td>\n",
       "      <td>7</td>\n",
       "      <td>4310.00</td>\n",
       "    </tr>\n",
       "    <tr>\n",
       "      <th>2</th>\n",
       "      <td>12348.0</td>\n",
       "      <td>75</td>\n",
       "      <td>4</td>\n",
       "      <td>1797.24</td>\n",
       "    </tr>\n",
       "    <tr>\n",
       "      <th>3</th>\n",
       "      <td>12349.0</td>\n",
       "      <td>19</td>\n",
       "      <td>1</td>\n",
       "      <td>1757.55</td>\n",
       "    </tr>\n",
       "    <tr>\n",
       "      <th>4</th>\n",
       "      <td>12350.0</td>\n",
       "      <td>310</td>\n",
       "      <td>1</td>\n",
       "      <td>334.40</td>\n",
       "    </tr>\n",
       "  </tbody>\n",
       "</table>\n",
       "</div>"
      ],
      "text/plain": [
       "   CustomerID  Recency  Frequency  Monetary\n",
       "0     12346.0      326          1  77183.60\n",
       "1     12347.0        2          7   4310.00\n",
       "2     12348.0       75          4   1797.24\n",
       "3     12349.0       19          1   1757.55\n",
       "4     12350.0      310          1    334.40"
      ]
     },
     "execution_count": 50,
     "metadata": {},
     "output_type": "execute_result"
    }
   ],
   "source": [
    "rfm = df.groupby('CustomerID').agg({\n",
    "    'InvoiceDate': lambda x: (reference_date - x.max()).days,  # Recency\n",
    "    'InvoiceNo': 'nunique',                                    # Frequency\n",
    "    'TotalPrice': 'sum'                                        # Monetary\n",
    "}).reset_index()\n",
    "\n",
    "# تغییر نام ستون‌ها\n",
    "rfm.columns = ['CustomerID', 'Recency', 'Frequency', 'Monetary']\n",
    "rfm.head()"
   ]
  },
  {
   "cell_type": "markdown",
   "id": "c6303294-9055-452a-863c-34e13e493973",
   "metadata": {},
   "source": [
    "### 3. تحلیل عددی روی Recency, Frequency, Monetary"
   ]
  },
  {
   "cell_type": "markdown",
   "id": "8f0f5d81-6e63-417b-b4d7-fc71b833dd75",
   "metadata": {},
   "source": [
    "#### خلاصه آماری:"
   ]
  },
  {
   "cell_type": "code",
   "execution_count": 27,
   "id": "63737fe2-8d33-4cca-ac45-af7b53f55fd5",
   "metadata": {},
   "outputs": [
    {
     "data": {
      "text/html": [
       "<div>\n",
       "<style scoped>\n",
       "    .dataframe tbody tr th:only-of-type {\n",
       "        vertical-align: middle;\n",
       "    }\n",
       "\n",
       "    .dataframe tbody tr th {\n",
       "        vertical-align: top;\n",
       "    }\n",
       "\n",
       "    .dataframe thead th {\n",
       "        text-align: right;\n",
       "    }\n",
       "</style>\n",
       "<table border=\"1\" class=\"dataframe\">\n",
       "  <thead>\n",
       "    <tr style=\"text-align: right;\">\n",
       "      <th></th>\n",
       "      <th>CustomerID</th>\n",
       "      <th>Recency</th>\n",
       "      <th>Frequency</th>\n",
       "      <th>Monetary</th>\n",
       "    </tr>\n",
       "  </thead>\n",
       "  <tbody>\n",
       "    <tr>\n",
       "      <th>count</th>\n",
       "      <td>4338.000000</td>\n",
       "      <td>4338.000000</td>\n",
       "      <td>4338.000000</td>\n",
       "      <td>4338.000000</td>\n",
       "    </tr>\n",
       "    <tr>\n",
       "      <th>mean</th>\n",
       "      <td>15300.408022</td>\n",
       "      <td>92.536422</td>\n",
       "      <td>4.272015</td>\n",
       "      <td>2054.266460</td>\n",
       "    </tr>\n",
       "    <tr>\n",
       "      <th>std</th>\n",
       "      <td>1721.808492</td>\n",
       "      <td>100.014169</td>\n",
       "      <td>7.697998</td>\n",
       "      <td>8989.230441</td>\n",
       "    </tr>\n",
       "    <tr>\n",
       "      <th>min</th>\n",
       "      <td>12346.000000</td>\n",
       "      <td>1.000000</td>\n",
       "      <td>1.000000</td>\n",
       "      <td>3.750000</td>\n",
       "    </tr>\n",
       "    <tr>\n",
       "      <th>25%</th>\n",
       "      <td>13813.250000</td>\n",
       "      <td>18.000000</td>\n",
       "      <td>1.000000</td>\n",
       "      <td>307.415000</td>\n",
       "    </tr>\n",
       "    <tr>\n",
       "      <th>50%</th>\n",
       "      <td>15299.500000</td>\n",
       "      <td>51.000000</td>\n",
       "      <td>2.000000</td>\n",
       "      <td>674.485000</td>\n",
       "    </tr>\n",
       "    <tr>\n",
       "      <th>75%</th>\n",
       "      <td>16778.750000</td>\n",
       "      <td>142.000000</td>\n",
       "      <td>5.000000</td>\n",
       "      <td>1661.740000</td>\n",
       "    </tr>\n",
       "    <tr>\n",
       "      <th>max</th>\n",
       "      <td>18287.000000</td>\n",
       "      <td>374.000000</td>\n",
       "      <td>209.000000</td>\n",
       "      <td>280206.020000</td>\n",
       "    </tr>\n",
       "  </tbody>\n",
       "</table>\n",
       "</div>"
      ],
      "text/plain": [
       "         CustomerID      Recency    Frequency       Monetary\n",
       "count   4338.000000  4338.000000  4338.000000    4338.000000\n",
       "mean   15300.408022    92.536422     4.272015    2054.266460\n",
       "std     1721.808492   100.014169     7.697998    8989.230441\n",
       "min    12346.000000     1.000000     1.000000       3.750000\n",
       "25%    13813.250000    18.000000     1.000000     307.415000\n",
       "50%    15299.500000    51.000000     2.000000     674.485000\n",
       "75%    16778.750000   142.000000     5.000000    1661.740000\n",
       "max    18287.000000   374.000000   209.000000  280206.020000"
      ]
     },
     "execution_count": 27,
     "metadata": {},
     "output_type": "execute_result"
    }
   ],
   "source": [
    "rfm.describe()"
   ]
  },
  {
   "cell_type": "markdown",
   "id": "d6392d18-ab28-44d9-9f25-18aec5e71ee8",
   "metadata": {},
   "source": [
    "####  نمودار توزیع برای هرکدوم:"
   ]
  },
  {
   "cell_type": "code",
   "execution_count": 40,
   "id": "164e19e0-e2b8-4625-886c-74ade25f842c",
   "metadata": {},
   "outputs": [
    {
     "data": {
      "image/png": "[encoded data removed]",
      "text/plain": [
       "<Figure size 1500x400 with 3 Axes>"
      ]
     },
     "metadata": {},
     "output_type": "display_data"
    }
   ],
   "source": [
    "import seaborn as sns\n",
    "import matplotlib.pyplot as plt\n",
    "\n",
    "plt.figure(figsize=(15,4))\n",
    "for i, col in enumerate(['Recency', 'Frequency', 'Monetary']):\n",
    "    plt.subplot(1, 3, i+1)\n",
    "    sns.histplot(rfm[col], kde=True, color='skyblue')\n",
    "    plt.title(f'Distribution of {col}')\n",
    "plt.tight_layout()\n",
    "plt.show()"
   ]
  },
  {
   "cell_type": "markdown",
   "id": "c31d2439-595f-4fcd-b4a9-186e4a8098d2",
   "metadata": {},
   "source": [
    "## نرمال‌سازی با StandardScaler"
   ]
  },
  {
   "cell_type": "markdown",
   "id": "3cb0cfd3-459b-46a7-9ebd-a6adb3515166",
   "metadata": {},
   "source": [
    " چرا نرمال‌سازی؟\n",
    "\n",
    "چون RFM عددهایی با مقیاس‌های خیلی متفاوت داره:\n",
    "\n",
    "  Recency: مثلاً 5 تا 300 روز\n",
    "\n",
    "  Frequency: 1 تا 50 بار\n",
    "\n",
    "  Monetary: 0 تا چند هزار!\n",
    "\n",
    "KMeans فاصله‌ها رو مقایسه می‌کنه → باید مقیاس برابر باشه"
   ]
  },
  {
   "cell_type": "code",
   "execution_count": 51,
   "id": "8fdcb67d-fbe5-4fa9-bee9-cf59e6be6017",
   "metadata": {},
   "outputs": [],
   "source": [
    "from sklearn.preprocessing import StandardScaler\n",
    "\n",
    "scaler = StandardScaler()\n",
    "rfm_scaled = scaler.fit_transform(rfm[['Recency', 'Frequency', 'Monetary']])"
   ]
  },
  {
   "cell_type": "markdown",
   "id": "fac39134-e71d-4a44-82b2-ee70a00bdf61",
   "metadata": {},
   "source": [
    "## Clustering"
   ]
  },
  {
   "cell_type": "markdown",
   "id": "e8a2be57-de7f-4f2c-983b-3bfc6f4ef86b",
   "metadata": {},
   "source": [
    "### رسم نمودار آرنج برای تعیین تعداد خوشه بهینه"
   ]
  },
  {
   "cell_type": "code",
   "execution_count": 55,
   "id": "88c9beb4-d1fa-4fa3-a508-8c8cb572d9ae",
   "metadata": {},
   "outputs": [
    {
     "data": {
      "image/png": "[encoded data removed]",
      "text/plain": [
       "<Figure size 800x500 with 1 Axes>"
      ]
     },
     "metadata": {},
     "output_type": "display_data"
    }
   ],
   "source": [
    "wcss = []\n",
    "from sklearn.cluster import KMeans\n",
    "\n",
    "# تست از 1 تا 10 خوشه\n",
    "for k in range(1, 11):\n",
    "    kmeans = KMeans(n_clusters=k, random_state=42)\n",
    "    kmeans.fit(rfm_scaled)\n",
    "    wcss.append(kmeans.inertia_)\n",
    "\n",
    "# رسم نمودار\n",
    "import matplotlib.pyplot as plt\n",
    "\n",
    "plt.figure(figsize=(8,5))\n",
    "plt.plot(range(1, 11), wcss, marker='o', linestyle='-')\n",
    "plt.title('Elbow method for optimal number of clusters')\n",
    "plt.xlabel('Number of Clusters')\n",
    "plt.ylabel('WCSS')\n",
    "plt.xticks(range(1, 11))\n",
    "plt.grid(True)\n",
    "plt.show()"
   ]
  },
  {
   "cell_type": "markdown",
   "id": "2e9e4a70-36ba-4423-9b2e-5ed939fa31cf",
   "metadata": {},
   "source": [
    "**نکته: بهترین نقطه‌ دقیقاً بین 3 و 4 خوشه**\n",
    "\n",
    " سه خوشه: ساده‌تر، خوشه‌ها معمولاً واضح‌تر\n",
    " \n",
    " چهار خوشه: جزئیات بیشتر، شاید تمایز دقیق‌تری در مشتری‌ها"
   ]
  },
  {
   "cell_type": "code",
   "execution_count": 68,
   "id": "86129277-1ecb-4062-99a4-2ee4cfa9f270",
   "metadata": {},
   "outputs": [],
   "source": [
    "from sklearn.cluster import KMeans\n",
    "\n",
    "kmeans = KMeans(n_clusters=4, random_state=42)\n",
    "rfm['Cluster'] = kmeans.fit_predict(rfm_scaled)"
   ]
  },
  {
   "cell_type": "markdown",
   "id": "d4220977-1d1f-4d42-be57-09932140807f",
   "metadata": {},
   "source": [
    "### تحلیل خوشه‌ها"
   ]
  },
  {
   "cell_type": "markdown",
   "id": "1310b25c-93d3-426a-abab-8b3860390f75",
   "metadata": {},
   "source": [
    "میانگین RFM برای هر خوشه:"
   ]
  },
  {
   "cell_type": "code",
   "execution_count": 69,
   "id": "3d89713e-5562-4a22-8934-66fb7a5664d9",
   "metadata": {},
   "outputs": [
    {
     "data": {
      "text/html": [
       "<div>\n",
       "<style scoped>\n",
       "    .dataframe tbody tr th:only-of-type {\n",
       "        vertical-align: middle;\n",
       "    }\n",
       "\n",
       "    .dataframe tbody tr th {\n",
       "        vertical-align: top;\n",
       "    }\n",
       "\n",
       "    .dataframe thead th {\n",
       "        text-align: right;\n",
       "    }\n",
       "</style>\n",
       "<table border=\"1\" class=\"dataframe\">\n",
       "  <thead>\n",
       "    <tr style=\"text-align: right;\">\n",
       "      <th></th>\n",
       "      <th>Recency</th>\n",
       "      <th>Frequency</th>\n",
       "      <th>Monetary</th>\n",
       "    </tr>\n",
       "    <tr>\n",
       "      <th>Cluster</th>\n",
       "      <th></th>\n",
       "      <th></th>\n",
       "      <th></th>\n",
       "    </tr>\n",
       "  </thead>\n",
       "  <tbody>\n",
       "    <tr>\n",
       "      <th>0</th>\n",
       "      <td>43.7</td>\n",
       "      <td>3.7</td>\n",
       "      <td>1359.0</td>\n",
       "    </tr>\n",
       "    <tr>\n",
       "      <th>1</th>\n",
       "      <td>248.1</td>\n",
       "      <td>1.6</td>\n",
       "      <td>480.6</td>\n",
       "    </tr>\n",
       "    <tr>\n",
       "      <th>2</th>\n",
       "      <td>7.4</td>\n",
       "      <td>82.5</td>\n",
       "      <td>127338.3</td>\n",
       "    </tr>\n",
       "    <tr>\n",
       "      <th>3</th>\n",
       "      <td>15.5</td>\n",
       "      <td>22.3</td>\n",
       "      <td>12709.1</td>\n",
       "    </tr>\n",
       "  </tbody>\n",
       "</table>\n",
       "</div>"
      ],
      "text/plain": [
       "         Recency  Frequency  Monetary\n",
       "Cluster                              \n",
       "0           43.7        3.7    1359.0\n",
       "1          248.1        1.6     480.6\n",
       "2            7.4       82.5  127338.3\n",
       "3           15.5       22.3   12709.1"
      ]
     },
     "execution_count": 69,
     "metadata": {},
     "output_type": "execute_result"
    }
   ],
   "source": [
    "rfm.groupby('Cluster')[['Recency', 'Frequency', 'Monetary']].mean().round(1)"
   ]
  },
  {
   "cell_type": "markdown",
   "id": "cdc39a41-c5ab-4465-90d1-9169d8ad9627",
   "metadata": {},
   "source": [
    "### بصری‌سازی خوشه‌ها با PCA"
   ]
  },
  {
   "cell_type": "markdown",
   "id": "a80227fe-62bb-4145-bf63-f823daf0bdc5",
   "metadata": {},
   "source": [
    "#### اجرای PCA"
   ]
  },
  {
   "cell_type": "code",
   "execution_count": 70,
   "id": "bfcedc88-6f6a-4149-8899-f2a605377390",
   "metadata": {},
   "outputs": [],
   "source": [
    "from sklearn.decomposition import PCA\n",
    "\n",
    "pca = PCA(n_components=2)\n",
    "pca_components = pca.fit_transform(rfm_scaled)"
   ]
  },
  {
   "cell_type": "markdown",
   "id": "834b2ace-5930-4e92-b7d6-75f53e09aa5f",
   "metadata": {},
   "source": [
    "#### ساخت DataFrame بصری‌سازی"
   ]
  },
  {
   "cell_type": "code",
   "execution_count": 71,
   "id": "09f4e357-5b4b-467c-9572-18bc23ff5688",
   "metadata": {},
   "outputs": [],
   "source": [
    "pca_df = pd.DataFrame(data=pca_components, columns=['PCA1', 'PCA2'])\n",
    "pca_df['Cluster'] = rfm['Cluster']"
   ]
  },
  {
   "cell_type": "markdown",
   "id": "ec3e6378-435d-49f8-9609-c9322618ebfe",
   "metadata": {},
   "source": [
    "#### رسم نمودار خوشه‌ها"
   ]
  },
  {
   "cell_type": "code",
   "execution_count": 72,
   "id": "0e80d317-d466-4622-a2dd-8c0e92cf4e0a",
   "metadata": {},
   "outputs": [
    {
     "data": {
      "image/png": "[encoded data removed]",
      "text/plain": [
       "<Figure size 800x600 with 1 Axes>"
      ]
     },
     "metadata": {},
     "output_type": "display_data"
    }
   ],
   "source": [
    "import seaborn as sns\n",
    "import matplotlib.pyplot as plt\n",
    "\n",
    "plt.figure(figsize=(8,6))\n",
    "sns.scatterplot(\n",
    "    data=pca_df,\n",
    "    x='PCA1', y='PCA2',\n",
    "    hue='Cluster',\n",
    "    palette='Set2',\n",
    "    alpha=0.7,\n",
    "    s=100\n",
    ")\n",
    "\n",
    "plt.title('Visualization of RFM Clusters (via PCA)', fontsize=14)\n",
    "plt.xlabel('PCA 1')\n",
    "plt.ylabel('PCA 2')\n",
    "plt.legend(title='Cluster')\n",
    "plt.tight_layout()\n",
    "plt.show()"
   ]
  },
  {
   "attachments": {},
   "cell_type": "markdown",
   "id": "35eea3ec-3b1a-4aef-8421-8846f93b6efa",
   "metadata": {},
   "source": [
    "این نمودار نشون می‌ده که:\n",
    "\n",
    "- خوشه‌ها از هم جدا هستن یا در هم پیچیدن؟\n",
    "\n",
    "- آیا خوشه‌ای خیلی متراکم یا پخش شده‌ست؟ \n",
    "\n",
    "- مشتری‌های VIP یا رهاشده توی کدوم ناحیه هستن؟"
   ]
  },
  {
   "cell_type": "markdown",
   "id": "b7676dd5-8da3-4ef8-817d-eafc94aa3c1a",
   "metadata": {},
   "source": [
    "##### ۱. چرا خوشه‌ها به هم چسبیدن؟"
   ]
  },
  {
   "cell_type": "markdown",
   "id": "53c0d293-11ce-46aa-b35b-24b716c267a3",
   "metadata": {},
   "source": [
    "- داده‌های RFM فقط ۳ ویژگی دارن (Recency, Frequency, Monetary)\n",
    "\n",
    "- مقادیر خیلی از مشتری‌ها در این سه ویژگی به هم نزدیکه\n",
    "\n",
    "- PCA فقط ۲ محور می‌سازه و ممکنه جداکنندگی کامل رو نشون نده\n",
    "(ممکنه در بعد سوم یا چهارم خوشه‌ها کاملاً جدا باشن)"
   ]
  },
  {
   "cell_type": "markdown",
   "id": "8271be43-692e-474d-93df-51cd497079e2",
   "metadata": {},
   "source": [
    "#####  ۲. آیا به معنی بد بودن خوشه‌بندیه؟"
   ]
  },
  {
   "cell_type": "markdown",
   "id": "1d1271c5-4287-4ccf-aed1-be2fb692e554",
   "metadata": {},
   "source": [
    "نه لزوماً ❌\n",
    "\n",
    "چسبیدن خوشه‌ها در نمودار PCA فقط نشون می‌ده:\n",
    "\n",
    "-  بین بعضی از خوشه‌ها تداخل نسبی هست\n",
    "\n",
    "-  ولی هنوز ممکنه از نظر ویژگی‌های عددی کاملاً معنی‌دار و جدا باشن"
   ]
  },
  {
   "attachments": {},
   "cell_type": "markdown",
   "id": "47bbe26e-9095-43c4-8c88-1b46fa807e72",
   "metadata": {},
   "source": [
    "### پروفایل رفتاری مشتری"
   ]
  },
  {
   "cell_type": "markdown",
   "id": "40bf8265-bcec-448d-8a0d-32f9cf7e2b98",
   "metadata": {},
   "source": [
    "#### ساخت جدول summary برای هر خوشه"
   ]
  },
  {
   "cell_type": "code",
   "execution_count": 73,
   "id": "5c2fc53d-b94e-40d7-b198-e26004a22fcf",
   "metadata": {},
   "outputs": [
    {
     "data": {
      "text/html": [
       "<div>\n",
       "<style scoped>\n",
       "    .dataframe tbody tr th:only-of-type {\n",
       "        vertical-align: middle;\n",
       "    }\n",
       "\n",
       "    .dataframe tbody tr th {\n",
       "        vertical-align: top;\n",
       "    }\n",
       "\n",
       "    .dataframe thead tr th {\n",
       "        text-align: left;\n",
       "    }\n",
       "\n",
       "    .dataframe thead tr:last-of-type th {\n",
       "        text-align: right;\n",
       "    }\n",
       "</style>\n",
       "<table border=\"1\" class=\"dataframe\">\n",
       "  <thead>\n",
       "    <tr>\n",
       "      <th></th>\n",
       "      <th colspan=\"4\" halign=\"left\">Recency</th>\n",
       "      <th colspan=\"4\" halign=\"left\">Frequency</th>\n",
       "      <th colspan=\"4\" halign=\"left\">Monetary</th>\n",
       "    </tr>\n",
       "    <tr>\n",
       "      <th></th>\n",
       "      <th>mean</th>\n",
       "      <th>median</th>\n",
       "      <th>min</th>\n",
       "      <th>max</th>\n",
       "      <th>mean</th>\n",
       "      <th>median</th>\n",
       "      <th>min</th>\n",
       "      <th>max</th>\n",
       "      <th>mean</th>\n",
       "      <th>median</th>\n",
       "      <th>min</th>\n",
       "      <th>max</th>\n",
       "    </tr>\n",
       "    <tr>\n",
       "      <th>Cluster</th>\n",
       "      <th></th>\n",
       "      <th></th>\n",
       "      <th></th>\n",
       "      <th></th>\n",
       "      <th></th>\n",
       "      <th></th>\n",
       "      <th></th>\n",
       "      <th></th>\n",
       "      <th></th>\n",
       "      <th></th>\n",
       "      <th></th>\n",
       "      <th></th>\n",
       "    </tr>\n",
       "  </thead>\n",
       "  <tbody>\n",
       "    <tr>\n",
       "      <th>0</th>\n",
       "      <td>43.7</td>\n",
       "      <td>32.0</td>\n",
       "      <td>1</td>\n",
       "      <td>163</td>\n",
       "      <td>3.7</td>\n",
       "      <td>3.0</td>\n",
       "      <td>1</td>\n",
       "      <td>15</td>\n",
       "      <td>1359.0</td>\n",
       "      <td>829.3</td>\n",
       "      <td>6.2</td>\n",
       "      <td>21429.4</td>\n",
       "    </tr>\n",
       "    <tr>\n",
       "      <th>1</th>\n",
       "      <td>248.1</td>\n",
       "      <td>243.0</td>\n",
       "      <td>143</td>\n",
       "      <td>374</td>\n",
       "      <td>1.6</td>\n",
       "      <td>1.0</td>\n",
       "      <td>1</td>\n",
       "      <td>12</td>\n",
       "      <td>480.6</td>\n",
       "      <td>310.5</td>\n",
       "      <td>3.8</td>\n",
       "      <td>9864.3</td>\n",
       "    </tr>\n",
       "    <tr>\n",
       "      <th>2</th>\n",
       "      <td>7.4</td>\n",
       "      <td>2.0</td>\n",
       "      <td>1</td>\n",
       "      <td>39</td>\n",
       "      <td>82.5</td>\n",
       "      <td>63.0</td>\n",
       "      <td>2</td>\n",
       "      <td>209</td>\n",
       "      <td>127338.3</td>\n",
       "      <td>117379.6</td>\n",
       "      <td>33719.7</td>\n",
       "      <td>280206.0</td>\n",
       "    </tr>\n",
       "    <tr>\n",
       "      <th>3</th>\n",
       "      <td>15.5</td>\n",
       "      <td>5.0</td>\n",
       "      <td>1</td>\n",
       "      <td>372</td>\n",
       "      <td>22.3</td>\n",
       "      <td>19.0</td>\n",
       "      <td>1</td>\n",
       "      <td>93</td>\n",
       "      <td>12709.1</td>\n",
       "      <td>8037.7</td>\n",
       "      <td>1296.4</td>\n",
       "      <td>77183.6</td>\n",
       "    </tr>\n",
       "  </tbody>\n",
       "</table>\n",
       "</div>"
      ],
      "text/plain": [
       "        Recency                  Frequency                  Monetary  \\\n",
       "           mean median  min  max      mean median min  max      mean   \n",
       "Cluster                                                                \n",
       "0          43.7   32.0    1  163       3.7    3.0   1   15    1359.0   \n",
       "1         248.1  243.0  143  374       1.6    1.0   1   12     480.6   \n",
       "2           7.4    2.0    1   39      82.5   63.0   2  209  127338.3   \n",
       "3          15.5    5.0    1  372      22.3   19.0   1   93   12709.1   \n",
       "\n",
       "                                      \n",
       "           median      min       max  \n",
       "Cluster                               \n",
       "0           829.3      6.2   21429.4  \n",
       "1           310.5      3.8    9864.3  \n",
       "2        117379.6  33719.7  280206.0  \n",
       "3          8037.7   1296.4   77183.6  "
      ]
     },
     "execution_count": 73,
     "metadata": {},
     "output_type": "execute_result"
    }
   ],
   "source": [
    "summary = rfm.groupby('Cluster')[['Recency', 'Frequency', 'Monetary']].agg(\n",
    "    ['mean', 'median', 'min', 'max']\n",
    ").round(1)\n",
    "\n",
    "summary"
   ]
  },
  {
   "cell_type": "markdown",
   "id": "922d73e8-899a-4796-ad89-61d927d11ea9",
   "metadata": {},
   "source": [
    "**:تحلیل خروجی**\n",
    "\n",
    "- خوشه 0:\n",
    "\n",
    "مشتری معمولی یا تازه‌وارد\n",
    "\n",
    "Recency متوسط، Frequency کم، Monetary پایین\n",
    "\n",
    "- خوشه 1:\n",
    "\n",
    "مشتری غیرفعال یا رهاشده\n",
    "\n",
    "Recency خیلی زیاد، خرید و هزینه کم\n",
    "\n",
    "- خوشه 2:\n",
    "\n",
    "مشتری وفادار و VIP\n",
    "\n",
    "Recency بسیار کم، Frequency و Monetary بسیار بالا\n",
    "\n",
    "- خوشه 3:\n",
    "\n",
    " مشتری فعال و خوب\n",
    "\n",
    "Recency کم، Frequency و Monetary بالا\n"
   ]
  },
  {
   "cell_type": "code",
   "execution_count": 78,
   "id": "87b0b0f6-03fd-472b-a2d5-04cc8af01e61",
   "metadata": {},
   "outputs": [],
   "source": [
    "profile = {\n",
    "    2: \"VIP: وفادار، پرتکرار، ولخرج\",\n",
    "    3: \"فعال: اخیراً خرید کرده، خرید زیاد و متوسط\",\n",
    "    0: \"معمولی یا جدید: خرید کم، نه خیلی قدیم\",\n",
    "    1: \"خاموش‌شده: دیر خرید کرده، خرید کم و هزینه پایین\"\n",
    "}\n",
    "\n",
    "rfm['Segment'] = rfm['Cluster'].map(profile)"
   ]
  },
  {
   "cell_type": "code",
   "execution_count": 79,
   "id": "e945fbd4-b30c-4750-a436-8d9dc8c56c28",
   "metadata": {},
   "outputs": [
    {
     "data": {
      "text/plain": [
       "0             فعال: اخیراً خرید کرده، خرید زیاد و متوسط\n",
       "1                 معمولی یا جدید: خرید کم، نه خیلی قدیم\n",
       "2                 معمولی یا جدید: خرید کم، نه خیلی قدیم\n",
       "3                 معمولی یا جدید: خرید کم، نه خیلی قدیم\n",
       "4       خاموش‌شده: دیر خرید کرده، خرید کم و هزینه پایین\n",
       "                             ...                       \n",
       "4333    خاموش‌شده: دیر خرید کرده، خرید کم و هزینه پایین\n",
       "4334    خاموش‌شده: دیر خرید کرده، خرید کم و هزینه پایین\n",
       "4335              معمولی یا جدید: خرید کم، نه خیلی قدیم\n",
       "4336          فعال: اخیراً خرید کرده، خرید زیاد و متوسط\n",
       "4337              معمولی یا جدید: خرید کم، نه خیلی قدیم\n",
       "Name: Segment, Length: 4338, dtype: object"
      ]
     },
     "execution_count": 79,
     "metadata": {},
     "output_type": "execute_result"
    }
   ],
   "source": [
    "rfm['Segment']"
   ]
  },
  {
   "cell_type": "markdown",
   "id": "20a287f2-9218-4c27-8b79-df000cd268dd",
   "metadata": {},
   "source": [
    "## مدلسازی پیش بینی"
   ]
  },
  {
   "cell_type": "markdown",
   "id": "7c3eac45-6ae9-4617-86c9-2b7f63c1cd6f",
   "metadata": {},
   "source": [
    "### هدف مدل: آیا یک مشتری در آینده به خوشه \"خاموش‌شده\"  خواهد رفت یا نه؟\n",
    "\n",
    "(آیا مشتری داره غیرفعال می‌شه؟)"
   ]
  },
  {
   "cell_type": "markdown",
   "id": "e076bb6c-66a8-44a3-9d73-d38b6e196bf1",
   "metadata": {},
   "source": [
    "#### تعریف مسئله:"
   ]
  },
  {
   "cell_type": "markdown",
   "id": "769ce790-6fca-4e22-9389-8e06b1794196",
   "metadata": {},
   "source": [
    "ما یه مدل طبقه‌بندی (classification) می‌سازیم که:\n",
    "\n",
    "    ورودی: Recency، Frequency، Monetary\n",
    "\n",
    "    خروجی: ۱ (خاموش شده) یا ۰ (نه)"
   ]
  },
  {
   "cell_type": "markdown",
   "id": "c4c4fa36-5d3c-4e56-a0e1-3e5254118799",
   "metadata": {},
   "source": [
    "####  ۱: آماده‌سازی داده"
   ]
  },
  {
   "cell_type": "code",
   "execution_count": 81,
   "id": "8f55ec5d-ec92-4d0e-afb3-084ae96cb2a8",
   "metadata": {},
   "outputs": [],
   "source": [
    "# هدف: آیا مشتری در Cluster 1 هست؟\n",
    "rfm['Inactive'] = (rfm['Cluster'] == 1).astype(int)\n",
    "\n",
    "# ویژگی‌ها\n",
    "X = rfm[['Recency', 'Frequency', 'Monetary']]\n",
    "y = rfm['Inactive']\n"
   ]
  },
  {
   "cell_type": "markdown",
   "id": "4eea019b-bf1c-40db-acf2-89a1a59e4451",
   "metadata": {},
   "source": [
    "#### ۲: تقسیم داده"
   ]
  },
  {
   "cell_type": "code",
   "execution_count": 82,
   "id": "4ba37ad0-67e8-4b45-9694-7d94712cfdf2",
   "metadata": {},
   "outputs": [],
   "source": [
    "from sklearn.model_selection import train_test_split\n",
    "\n",
    "X_train, X_test, y_train, y_test = train_test_split(\n",
    "    X, y, test_size=0.2, random_state=42, stratify=y\n",
    ")"
   ]
  },
  {
   "cell_type": "markdown",
   "id": "42d42334-e58c-4194-9f5f-a459eaebe877",
   "metadata": {},
   "source": [
    "#### ۳: ساخت مدل"
   ]
  },
  {
   "cell_type": "code",
   "execution_count": 85,
   "id": "b87b4145-23c7-4752-bc13-ad0e83f4f71d",
   "metadata": {},
   "outputs": [],
   "source": [
    "from sklearn.ensemble import RandomForestClassifier\n",
    "from sklearn.metrics import classification_report, confusion_matrix\n",
    "\n",
    "model = RandomForestClassifier(random_state=42)\n",
    "model.fit(X_train, y_train)\n",
    "\n",
    "y_pred = model.predict(X_test)"
   ]
  },
  {
   "cell_type": "markdown",
   "id": "ea2d55ab-e228-4cae-96a7-15f36f1532e8",
   "metadata": {},
   "source": [
    "#### ۴: ارزیابی مدل"
   ]
  },
  {
   "cell_type": "code",
   "execution_count": 86,
   "id": "d9ec9446-95f8-44d8-af00-3e8d3895f645",
   "metadata": {},
   "outputs": [
    {
     "name": "stdout",
     "output_type": "stream",
     "text": [
      "[[655   0]\n",
      " [  0 213]]\n",
      "              precision    recall  f1-score   support\n",
      "\n",
      "           0       1.00      1.00      1.00       655\n",
      "           1       1.00      1.00      1.00       213\n",
      "\n",
      "    accuracy                           1.00       868\n",
      "   macro avg       1.00      1.00      1.00       868\n",
      "weighted avg       1.00      1.00      1.00       868\n",
      "\n"
     ]
    }
   ],
   "source": [
    "print(confusion_matrix(y_test, y_pred))\n",
    "print(classification_report(y_test, y_pred))"
   ]
  },
  {
   "cell_type": "markdown",
   "id": "574aff7c-3789-40ad-81f7-af7cdd4162c6",
   "metadata": {},
   "source": [
    "**خروجی مدل:**\n",
    "\n",
    "- accuracy: 1.00 (100٪ دقت):\n",
    "\n",
    "مدل همه چیز رو درست پیش‌بینی کرده\n",
    "\n",
    "- precision و recall برای هر کلاس هم 1.00:\n",
    "\n",
    "بدون اشتباه!"
   ]
  },
  {
   "cell_type": "markdown",
   "id": "09794399-e16b-48dc-aaee-372ae4fb2863",
   "metadata": {},
   "source": [
    "**سؤال مهم: آیا این خوبه یا زیادی خوبه؟**\n",
    "\n",
    "ممکنه:\n",
    "\n",
    "- مدل خیلی ساده شده باشه (مثلاً داده‌ها خیلی تمیز و جدا بودن)\n",
    "\n",
    "- یا شاید overfitting اتفاق افتاده (مدل فقط همون داده رو حفظ کرده)\n",
    "\n",
    "- یا شاید واقعاً داده‌ها قابل تفکیک کامل بودن\n",
    "\n",
    "**چطور مطمئن بشیم؟**\n",
    "\n",
    "- یه بار با مدل ساده‌تر مثل Logistic Regression تست کنیم\n",
    "\n",
    "- از cross-validation یا داده‌ی جدید برای تست استفاده کنیم\n",
    "\n",
    "- مهم‌تر: بررسی کنیم که آیا ویژگی‌هایی که استفاده کردیم (R, F, M) واقعاً منطقی جدا کردن یا نه\n",
    "\n",
    "**نتیجه‌گیری:**\n",
    "\n",
    " - اگه واقعاً مشتری‌های خاموش‌شده رفتار کاملاً متفاوتی دارن، این مدل به‌درد کمپین‌های برگشت مشتری می‌خوره \n",
    " \n",
    " - می‌تونی براشون ایمیل یا تخفیف ویژه ارسال کنیم  \n",
    "\n",
    " - یا هشدار بدیم که «مشتری در خطر از دست رفتنه »"
   ]
  },
  {
   "cell_type": "markdown",
   "id": "ca17c137-da85-43c0-bb01-e133e6890ceb",
   "metadata": {},
   "source": [
    "## ساخت داشبورد PowerBI"
   ]
  },
  {
   "cell_type": "markdown",
   "id": "8bc568b0-2c87-4aca-885e-5201a3b93f3a",
   "metadata": {},
   "source": [
    "### آماده‌سازی فایل برای PowerBI"
   ]
  },
  {
   "cell_type": "markdown",
   "id": "0897506e-7809-4860-a3e8-300f36ca3115",
   "metadata": {},
   "source": [
    "1.ساخت فایل CSV از RFM نهایی:"
   ]
  },
  {
   "cell_type": "code",
   "execution_count": 87,
   "id": "bcb9ad74-be4d-4636-a7ed-8d2c4ce01f50",
   "metadata": {},
   "outputs": [],
   "source": [
    "rfm.to_csv(\"rfm_clusters.csv\", index=False)"
   ]
  },
  {
   "cell_type": "markdown",
   "id": "14e16cf8-b51e-4b66-9cca-088b44e83f3d",
   "metadata": {},
   "source": [
    "2.فایل rfm_clusters.csv رو تو Power BI وارد کنیم: \n",
    "\n",
    "از Power BI Desktop → Home > Get Data > Text/CSV"
   ]
  },
  {
   "cell_type": "markdown",
   "id": "daa0a532-67e3-422f-9ce5-06a3a98fbc07",
   "metadata": {},
   "source": [
    "### ویژوال‌هایی که میسازیم"
   ]
  },
  {
   "cell_type": "markdown",
   "id": "fe3626a2-04b3-44c0-a385-25e0b406056e",
   "metadata": {},
   "source": [
    "-  Pie chart یا Bar chart:\n",
    "\n",
    "تعداد مشتری در هر خوشه\n",
    "\n",
    "-  Column chart:\n",
    "\n",
    "میانگین Recency, Frequency, Monetary برای هر خوشه\n",
    "\n",
    "- Table:\n",
    "\n",
    "CustomerID + Segment + Monetary\n",
    "\n",
    "- Slicer:\n",
    "\n",
    "فیلتر خوشه‌ها یا Segment"
   ]
  },
  {
   "attachments": {
    "405bf6d4-f8ea-491f-9559-0f7a8f1808d3.png": {
     "image/png": "[encoded data removed]"
    }
   },
   "cell_type": "markdown",
   "id": "a23f7f29-30d9-4a09-87b3-d4ee3e63723d",
   "metadata": {},
   "source": [
    "![image.png](attachment:405bf6d4-f8ea-491f-9559-0f7a8f1808d3.png)"
   ]
  },
  {
   "cell_type": "markdown",
   "id": "6832ba90-1e32-469f-b5d5-6e539f75a2d0",
   "metadata": {},
   "source": [
    "## نسخه آنلاین با Streamlit"
   ]
  },
  {
   "cell_type": "markdown",
   "id": "f6deb8a5-ffd5-4802-b9b4-2a094e5509da",
   "metadata": {},
   "source": [
    " هدف:\n",
    "    \n",
    "- ساخت اپ  Streamlit برای نمایش:\n",
    "    \n",
    "-  اطلاعات RFM مشتری‌ها\n",
    "    \n",
    "-   خوشه‌ها و Segment\n",
    "    \n",
    "-  جدول فیلترشونده\n",
    "    \n",
    "  - نمودار خوشه‌بندی با انتخاب دسته‌بندی"
   ]
  },
  {
   "cell_type": "markdown",
   "id": "12976de7-9916-4442-b20a-b557a684a12b",
   "metadata": {},
   "source": [
    "### 1: آماده‌سازی محیط\n",
    "نصب Streamlit:"
   ]
  },
  {
   "cell_type": "code",
   "execution_count": 88,
   "id": "b7452b37-f687-46ee-80b5-dba3d41b6c82",
   "metadata": {},
   "outputs": [
    {
     "name": "stdout",
     "output_type": "stream",
     "text": [
      "Requirement already satisfied: streamlit in c:\\users\\you\\anaconda3\\lib\\site-packages (1.37.1)Note: you may need to restart the kernel to use updated packages.\n",
      "\n",
      "Requirement already satisfied: altair<6,>=4.0 in c:\\users\\you\\anaconda3\\lib\\site-packages (from streamlit) (5.0.1)\n",
      "Requirement already satisfied: blinker<2,>=1.0.0 in c:\\users\\you\\anaconda3\\lib\\site-packages (from streamlit) (1.6.2)\n",
      "Requirement already satisfied: cachetools<6,>=4.0 in c:\\users\\you\\anaconda3\\lib\\site-packages (from streamlit) (5.3.3)\n",
      "Requirement already satisfied: click<9,>=7.0 in c:\\users\\you\\anaconda3\\lib\\site-packages (from streamlit) (8.1.7)\n",
      "Requirement already satisfied: numpy<3,>=1.20 in c:\\users\\you\\anaconda3\\lib\\site-packages (from streamlit) (1.26.4)\n",
      "Requirement already satisfied: packaging<25,>=20 in c:\\users\\you\\anaconda3\\lib\\site-packages (from streamlit) (24.1)\n",
      "Requirement already satisfied: pandas<3,>=1.3.0 in c:\\users\\you\\anaconda3\\lib\\site-packages (from streamlit) (2.2.2)\n",
      "Requirement already satisfied: pillow<11,>=7.1.0 in c:\\users\\you\\anaconda3\\lib\\site-packages (from streamlit) (10.4.0)\n",
      "Requirement already satisfied: protobuf<6,>=3.20 in c:\\users\\you\\anaconda3\\lib\\site-packages (from streamlit) (4.25.3)\n",
      "Requirement already satisfied: pyarrow>=7.0 in c:\\users\\you\\anaconda3\\lib\\site-packages (from streamlit) (16.1.0)\n",
      "Requirement already satisfied: requests<3,>=2.27 in c:\\users\\you\\anaconda3\\lib\\site-packages (from streamlit) (2.32.3)\n",
      "Requirement already satisfied: rich<14,>=10.14.0 in c:\\users\\you\\anaconda3\\lib\\site-packages (from streamlit) (13.7.1)\n",
      "Requirement already satisfied: tenacity<9,>=8.1.0 in c:\\users\\you\\anaconda3\\lib\\site-packages (from streamlit) (8.2.3)\n",
      "Requirement already satisfied: toml<2,>=0.10.1 in c:\\users\\you\\anaconda3\\lib\\site-packages (from streamlit) (0.10.2)\n",
      "Requirement already satisfied: typing-extensions<5,>=4.3.0 in c:\\users\\you\\anaconda3\\lib\\site-packages (from streamlit) (4.11.0)\n",
      "Requirement already satisfied: gitpython!=3.1.19,<4,>=3.0.7 in c:\\users\\you\\anaconda3\\lib\\site-packages (from streamlit) (3.1.43)\n",
      "Requirement already satisfied: pydeck<1,>=0.8.0b4 in c:\\users\\you\\anaconda3\\lib\\site-packages (from streamlit) (0.8.0)\n",
      "Requirement already satisfied: tornado<7,>=6.0.3 in c:\\users\\you\\anaconda3\\lib\\site-packages (from streamlit) (6.4.1)\n",
      "Requirement already satisfied: watchdog<5,>=2.1.5 in c:\\users\\you\\anaconda3\\lib\\site-packages (from streamlit) (4.0.1)\n",
      "Requirement already satisfied: jinja2 in c:\\users\\you\\anaconda3\\lib\\site-packages (from altair<6,>=4.0->streamlit) (3.1.4)\n",
      "Requirement already satisfied: jsonschema>=3.0 in c:\\users\\you\\anaconda3\\lib\\site-packages (from altair<6,>=4.0->streamlit) (4.23.0)\n",
      "Requirement already satisfied: toolz in c:\\users\\you\\anaconda3\\lib\\site-packages (from altair<6,>=4.0->streamlit) (0.12.0)\n",
      "Requirement already satisfied: colorama in c:\\users\\you\\anaconda3\\lib\\site-packages (from click<9,>=7.0->streamlit) (0.4.6)\n",
      "Requirement already satisfied: gitdb<5,>=4.0.1 in c:\\users\\you\\anaconda3\\lib\\site-packages (from gitpython!=3.1.19,<4,>=3.0.7->streamlit) (4.0.7)\n",
      "Requirement already satisfied: python-dateutil>=2.8.2 in c:\\users\\you\\anaconda3\\lib\\site-packages (from pandas<3,>=1.3.0->streamlit) (2.9.0.post0)\n",
      "Requirement already satisfied: pytz>=2020.1 in c:\\users\\you\\anaconda3\\lib\\site-packages (from pandas<3,>=1.3.0->streamlit) (2024.1)\n",
      "Requirement already satisfied: tzdata>=2022.7 in c:\\users\\you\\anaconda3\\lib\\site-packages (from pandas<3,>=1.3.0->streamlit) (2023.3)\n",
      "Requirement already satisfied: charset-normalizer<4,>=2 in c:\\users\\you\\anaconda3\\lib\\site-packages (from requests<3,>=2.27->streamlit) (3.3.2)\n",
      "Requirement already satisfied: idna<4,>=2.5 in c:\\users\\you\\anaconda3\\lib\\site-packages (from requests<3,>=2.27->streamlit) (3.7)\n",
      "Requirement already satisfied: urllib3<3,>=1.21.1 in c:\\users\\you\\anaconda3\\lib\\site-packages (from requests<3,>=2.27->streamlit) (2.2.3)\n",
      "Requirement already satisfied: certifi>=2017.4.17 in c:\\users\\you\\anaconda3\\lib\\site-packages (from requests<3,>=2.27->streamlit) (2025.4.26)\n",
      "Requirement already satisfied: markdown-it-py>=2.2.0 in c:\\users\\you\\anaconda3\\lib\\site-packages (from rich<14,>=10.14.0->streamlit) (2.2.0)\n",
      "Requirement already satisfied: pygments<3.0.0,>=2.13.0 in c:\\users\\you\\anaconda3\\lib\\site-packages (from rich<14,>=10.14.0->streamlit) (2.15.1)\n",
      "Requirement already satisfied: smmap<5,>=3.0.1 in c:\\users\\you\\anaconda3\\lib\\site-packages (from gitdb<5,>=4.0.1->gitpython!=3.1.19,<4,>=3.0.7->streamlit) (4.0.0)\n",
      "Requirement already satisfied: MarkupSafe>=2.0 in c:\\users\\you\\anaconda3\\lib\\site-packages (from jinja2->altair<6,>=4.0->streamlit) (2.1.3)\n",
      "Requirement already satisfied: attrs>=22.2.0 in c:\\users\\you\\anaconda3\\lib\\site-packages (from jsonschema>=3.0->altair<6,>=4.0->streamlit) (23.1.0)\n",
      "Requirement already satisfied: jsonschema-specifications>=2023.03.6 in c:\\users\\you\\anaconda3\\lib\\site-packages (from jsonschema>=3.0->altair<6,>=4.0->streamlit) (2023.7.1)\n",
      "Requirement already satisfied: referencing>=0.28.4 in c:\\users\\you\\anaconda3\\lib\\site-packages (from jsonschema>=3.0->altair<6,>=4.0->streamlit) (0.30.2)\n",
      "Requirement already satisfied: rpds-py>=0.7.1 in c:\\users\\you\\anaconda3\\lib\\site-packages (from jsonschema>=3.0->altair<6,>=4.0->streamlit) (0.10.6)\n",
      "Requirement already satisfied: mdurl~=0.1 in c:\\users\\you\\anaconda3\\lib\\site-packages (from markdown-it-py>=2.2.0->rich<14,>=10.14.0->streamlit) (0.1.0)\n",
      "Requirement already satisfied: six>=1.5 in c:\\users\\you\\anaconda3\\lib\\site-packages (from python-dateutil>=2.8.2->pandas<3,>=1.3.0->streamlit) (1.16.0)\n"
     ]
    }
   ],
   "source": [
    "pip install streamlit"
   ]
  },
  {
   "cell_type": "markdown",
   "id": "1c20bbe9-d338-45cd-a506-4a348a67ec8e",
   "metadata": {},
   "source": [
    "###  2: ساخت فایل app.py"
   ]
  },
  {
   "cell_type": "markdown",
   "id": "4e4e634a-c23d-4b41-9cef-274c66893e6a",
   "metadata": {},
   "source": [
    "ساختن یک فایل جدید به نام: app.py\n",
    "\n",
    "import streamlit as st\n",
    "\n",
    "import pandas as pd\n",
    "\n",
    "#خواندن داده\n",
    "\n",
    "df = pd.read_csv('rfm_clusters.csv')\n",
    "\n",
    "st.title(\"📊 داشبورد تحلیلی مشتریان\")\n",
    "\n",
    "#انتخاب Segment\n",
    "\n",
    "segment = st.selectbox(\"یک Segment انتخاب کن:\", options=df['Segment'].unique())\n",
    "\n",
    "#فیلتر داده بر اساس Segment\n",
    "\n",
    "filtered = df[df['Segment'] == segment]\n",
    "\n",
    "#نمایش داده‌ها\n",
    "\n",
    "st.subheader(\"📋 لیست مشتریان در این Segment:\")\n",
    "\n",
    "st.dataframe(filtered[['CustomerID', 'Recency', 'Frequency', 'Monetary']])\n",
    "\n",
    "#آمار کلیدی\n",
    "\n",
    "st.subheader(\"📈 آمار خلاصه:\")\n",
    "\n",
    "st.metric(\"تعداد مشتری\", len(filtered))\n",
    "\n",
    "st.metric(\"میانگین Monetary\", round(filtered['Monetary'].mean(), 2))\n"
   ]
  },
  {
   "cell_type": "markdown",
   "id": "b6f60574-3ee5-489b-9a6e-bf0b1c09bacc",
   "metadata": {},
   "source": [
    "### 3: اجرای برنامه"
   ]
  },
  {
   "cell_type": "markdown",
   "id": "530c9a64-0c68-4280-a055-c49f9b4863bd",
   "metadata": {},
   "source": [
    "تو همون فولدر فایل app.py، توی ترمینال یا آناکوندا:\n",
    "\n",
    "streamlit run app.py\n",
    "\n",
    "و صفحه Streamlit باز می‌شه با URL مثل:\n",
    "\n",
    "http://localhost:8501"
   ]
  },
  {
   "cell_type": "markdown",
   "id": "acd258af-17c7-405f-8bcf-af94fb307102",
   "metadata": {},
   "source": [
    "### 4: گسترش اپ"
   ]
  },
  {
   "cell_type": "markdown",
   "id": "be5cea8a-7a97-4c08-a6ba-8234d18c5eb5",
   "metadata": {},
   "source": [
    "- اضافه کردن نمودار خوشه‌ها\n",
    "\n",
    "- KPI ها\n",
    "\n",
    "- جستجوی CustomerID\n",
    "\n",
    "- و در نهایت Deploy روی Cloud (مثلاً Streamlit Cloud یا Render)"
   ]
  },
  {
   "cell_type": "code",
   "execution_count": null,
   "id": "894a4feb-b260-4aac-8bc7-678ce077281b",
   "metadata": {},
   "outputs": [],
   "source": []
  }
 ],
 "metadata": {
  "kernelspec": {
   "display_name": "Python [conda env:base] *",
   "language": "python",
   "name": "conda-base-py"
  },
  "language_info": {
   "codemirror_mode": {
    "name": "ipython",
    "version": 3
   },
   "file_extension": ".py",
   "mimetype": "text/x-python",
   "name": "python",
   "nbconvert_exporter": "python",
   "pygments_lexer": "ipython3",
   "version": "3.12.7"
  }
 },
 "nbformat": 4,
 "nbformat_minor": 5
}
